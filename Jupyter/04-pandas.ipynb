{
 "cells": [
  {
   "cell_type": "code",
   "execution_count": 2,
   "metadata": {},
   "outputs": [],
   "source": [
    "import pandas as pd\n",
    "import numpy as np\n",
    "import matplotlib.pyplot as plt"
   ]
  },
  {
   "attachments": {},
   "cell_type": "markdown",
   "metadata": {},
   "source": [
    "#### **DATASET:**"
   ]
  },
  {
   "attachments": {},
   "cell_type": "markdown",
   "metadata": {},
   "source": [
    "grupo de series, *tabla o matriz, puede ser distintos tipos de archivos, es un termino amplio.*"
   ]
  },
  {
   "attachments": {},
   "cell_type": "markdown",
   "metadata": {},
   "source": [
    "#### **DATAFRAME**"
   ]
  },
  {
   "attachments": {},
   "cell_type": "markdown",
   "metadata": {},
   "source": [
    "Datos ordenados con una estructura especifica, *estructura bidimensional*"
   ]
  },
  {
   "attachments": {},
   "cell_type": "markdown",
   "metadata": {},
   "source": [
    "#### **INICIALIZANDO EL DATAFRAME**"
   ]
  },
  {
   "cell_type": "code",
   "execution_count": 4,
   "metadata": {},
   "outputs": [
    {
     "data": {
      "text/html": [
       "<div>\n",
       "<style scoped>\n",
       "    .dataframe tbody tr th:only-of-type {\n",
       "        vertical-align: middle;\n",
       "    }\n",
       "\n",
       "    .dataframe tbody tr th {\n",
       "        vertical-align: top;\n",
       "    }\n",
       "\n",
       "    .dataframe thead th {\n",
       "        text-align: right;\n",
       "    }\n",
       "</style>\n",
       "<table border=\"1\" class=\"dataframe\">\n",
       "  <thead>\n",
       "    <tr style=\"text-align: right;\">\n",
       "      <th></th>\n",
       "      <th>Title</th>\n",
       "      <th>Release Date</th>\n",
       "      <th>Team</th>\n",
       "      <th>Rating</th>\n",
       "      <th>Times Listed</th>\n",
       "      <th>Number of Reviews</th>\n",
       "      <th>Genres</th>\n",
       "      <th>Summary</th>\n",
       "      <th>Reviews</th>\n",
       "      <th>Plays</th>\n",
       "      <th>Playing</th>\n",
       "      <th>Backlogs</th>\n",
       "      <th>Wishlist</th>\n",
       "    </tr>\n",
       "    <tr>\n",
       "      <th>id</th>\n",
       "      <th></th>\n",
       "      <th></th>\n",
       "      <th></th>\n",
       "      <th></th>\n",
       "      <th></th>\n",
       "      <th></th>\n",
       "      <th></th>\n",
       "      <th></th>\n",
       "      <th></th>\n",
       "      <th></th>\n",
       "      <th></th>\n",
       "      <th></th>\n",
       "      <th></th>\n",
       "    </tr>\n",
       "  </thead>\n",
       "  <tbody>\n",
       "    <tr>\n",
       "      <th>0</th>\n",
       "      <td>Elden Ring</td>\n",
       "      <td>Feb 25, 2022</td>\n",
       "      <td>['Bandai Namco Entertainment', 'FromSoftware']</td>\n",
       "      <td>4.5</td>\n",
       "      <td>3.9K</td>\n",
       "      <td>3.9K</td>\n",
       "      <td>['Adventure', 'RPG']</td>\n",
       "      <td>Elden Ring is a fantasy, action and open world...</td>\n",
       "      <td>[\"The first playthrough of elden ring is one o...</td>\n",
       "      <td>17K</td>\n",
       "      <td>3.8K</td>\n",
       "      <td>4.6K</td>\n",
       "      <td>4.8K</td>\n",
       "    </tr>\n",
       "    <tr>\n",
       "      <th>1</th>\n",
       "      <td>Hades</td>\n",
       "      <td>Dec 10, 2019</td>\n",
       "      <td>['Supergiant Games']</td>\n",
       "      <td>4.3</td>\n",
       "      <td>2.9K</td>\n",
       "      <td>2.9K</td>\n",
       "      <td>['Adventure', 'Brawler', 'Indie', 'RPG']</td>\n",
       "      <td>A rogue-lite hack and slash dungeon crawler in...</td>\n",
       "      <td>['convinced this is a roguelike for people who...</td>\n",
       "      <td>21K</td>\n",
       "      <td>3.2K</td>\n",
       "      <td>6.3K</td>\n",
       "      <td>3.6K</td>\n",
       "    </tr>\n",
       "    <tr>\n",
       "      <th>2</th>\n",
       "      <td>The Legend of Zelda: Breath of the Wild</td>\n",
       "      <td>Mar 03, 2017</td>\n",
       "      <td>['Nintendo', 'Nintendo EPD Production Group No...</td>\n",
       "      <td>4.4</td>\n",
       "      <td>4.3K</td>\n",
       "      <td>4.3K</td>\n",
       "      <td>['Adventure', 'RPG']</td>\n",
       "      <td>The Legend of Zelda: Breath of the Wild is the...</td>\n",
       "      <td>['This game is the game (that is not CS:GO) th...</td>\n",
       "      <td>30K</td>\n",
       "      <td>2.5K</td>\n",
       "      <td>5K</td>\n",
       "      <td>2.6K</td>\n",
       "    </tr>\n",
       "    <tr>\n",
       "      <th>3</th>\n",
       "      <td>Undertale</td>\n",
       "      <td>Sep 15, 2015</td>\n",
       "      <td>['tobyfox', '8-4']</td>\n",
       "      <td>4.2</td>\n",
       "      <td>3.5K</td>\n",
       "      <td>3.5K</td>\n",
       "      <td>['Adventure', 'Indie', 'RPG', 'Turn Based Stra...</td>\n",
       "      <td>A small child falls into the Underground, wher...</td>\n",
       "      <td>['soundtrack is tied for #1 with nier automata...</td>\n",
       "      <td>28K</td>\n",
       "      <td>679</td>\n",
       "      <td>4.9K</td>\n",
       "      <td>1.8K</td>\n",
       "    </tr>\n",
       "    <tr>\n",
       "      <th>4</th>\n",
       "      <td>Hollow Knight</td>\n",
       "      <td>Feb 24, 2017</td>\n",
       "      <td>['Team Cherry']</td>\n",
       "      <td>4.4</td>\n",
       "      <td>3K</td>\n",
       "      <td>3K</td>\n",
       "      <td>['Adventure', 'Indie', 'Platform']</td>\n",
       "      <td>A 2D metroidvania with an emphasis on close co...</td>\n",
       "      <td>[\"this games worldbuilding is incredible, with...</td>\n",
       "      <td>21K</td>\n",
       "      <td>2.4K</td>\n",
       "      <td>8.3K</td>\n",
       "      <td>2.3K</td>\n",
       "    </tr>\n",
       "    <tr>\n",
       "      <th>5</th>\n",
       "      <td>Minecraft</td>\n",
       "      <td>Nov 18, 2011</td>\n",
       "      <td>['Mojang Studios']</td>\n",
       "      <td>4.3</td>\n",
       "      <td>2.3K</td>\n",
       "      <td>2.3K</td>\n",
       "      <td>['Adventure', 'Simulator']</td>\n",
       "      <td>Minecraft focuses on allowing the player to ex...</td>\n",
       "      <td>['Minecraft is what you make of it. Unfortunat...</td>\n",
       "      <td>33K</td>\n",
       "      <td>1.8K</td>\n",
       "      <td>1.1K</td>\n",
       "      <td>230</td>\n",
       "    </tr>\n",
       "  </tbody>\n",
       "</table>\n",
       "</div>"
      ],
      "text/plain": [
       "                                      Title  Release Date  \\\n",
       "id                                                          \n",
       "0                                Elden Ring  Feb 25, 2022   \n",
       "1                                     Hades  Dec 10, 2019   \n",
       "2   The Legend of Zelda: Breath of the Wild  Mar 03, 2017   \n",
       "3                                 Undertale  Sep 15, 2015   \n",
       "4                             Hollow Knight  Feb 24, 2017   \n",
       "5                                 Minecraft  Nov 18, 2011   \n",
       "\n",
       "                                                 Team  Rating Times Listed  \\\n",
       "id                                                                           \n",
       "0      ['Bandai Namco Entertainment', 'FromSoftware']     4.5         3.9K   \n",
       "1                                ['Supergiant Games']     4.3         2.9K   \n",
       "2   ['Nintendo', 'Nintendo EPD Production Group No...     4.4         4.3K   \n",
       "3                                  ['tobyfox', '8-4']     4.2         3.5K   \n",
       "4                                     ['Team Cherry']     4.4           3K   \n",
       "5                                  ['Mojang Studios']     4.3         2.3K   \n",
       "\n",
       "   Number of Reviews                                             Genres  \\\n",
       "id                                                                        \n",
       "0               3.9K                               ['Adventure', 'RPG']   \n",
       "1               2.9K           ['Adventure', 'Brawler', 'Indie', 'RPG']   \n",
       "2               4.3K                               ['Adventure', 'RPG']   \n",
       "3               3.5K  ['Adventure', 'Indie', 'RPG', 'Turn Based Stra...   \n",
       "4                 3K                 ['Adventure', 'Indie', 'Platform']   \n",
       "5               2.3K                         ['Adventure', 'Simulator']   \n",
       "\n",
       "                                              Summary  \\\n",
       "id                                                      \n",
       "0   Elden Ring is a fantasy, action and open world...   \n",
       "1   A rogue-lite hack and slash dungeon crawler in...   \n",
       "2   The Legend of Zelda: Breath of the Wild is the...   \n",
       "3   A small child falls into the Underground, wher...   \n",
       "4   A 2D metroidvania with an emphasis on close co...   \n",
       "5   Minecraft focuses on allowing the player to ex...   \n",
       "\n",
       "                                              Reviews Plays Playing Backlogs  \\\n",
       "id                                                                             \n",
       "0   [\"The first playthrough of elden ring is one o...   17K    3.8K     4.6K   \n",
       "1   ['convinced this is a roguelike for people who...   21K    3.2K     6.3K   \n",
       "2   ['This game is the game (that is not CS:GO) th...   30K    2.5K       5K   \n",
       "3   ['soundtrack is tied for #1 with nier automata...   28K     679     4.9K   \n",
       "4   [\"this games worldbuilding is incredible, with...   21K    2.4K     8.3K   \n",
       "5   ['Minecraft is what you make of it. Unfortunat...   33K    1.8K     1.1K   \n",
       "\n",
       "   Wishlist  \n",
       "id           \n",
       "0      4.8K  \n",
       "1      3.6K  \n",
       "2      2.6K  \n",
       "3      1.8K  \n",
       "4      2.3K  \n",
       "5       230  "
      ]
     },
     "execution_count": 4,
     "metadata": {},
     "output_type": "execute_result"
    }
   ],
   "source": [
    "datos = pd.read_csv(\"assets/data/games.csv\", index_col = \"id\")\n",
    "datos.head(6)"
   ]
  },
  {
   "attachments": {},
   "cell_type": "markdown",
   "metadata": {},
   "source": [
    "#### **DIMENSIÓN DEL DATASET**"
   ]
  },
  {
   "cell_type": "code",
   "execution_count": 5,
   "metadata": {},
   "outputs": [
    {
     "data": {
      "text/plain": [
       "(1512, 13)"
      ]
     },
     "execution_count": 5,
     "metadata": {},
     "output_type": "execute_result"
    }
   ],
   "source": [
    "np.shape(datos)"
   ]
  },
  {
   "attachments": {},
   "cell_type": "markdown",
   "metadata": {},
   "source": [
    "#### **INFORMACIÓN**"
   ]
  },
  {
   "cell_type": "code",
   "execution_count": 11,
   "metadata": {},
   "outputs": [
    {
     "name": "stdout",
     "output_type": "stream",
     "text": [
      "<class 'pandas.core.frame.DataFrame'>\n",
      "Index: 1512 entries, 0 to 1511\n",
      "Data columns (total 13 columns):\n",
      " #   Column             Non-Null Count  Dtype  \n",
      "---  ------             --------------  -----  \n",
      " 0   Title              1512 non-null   object \n",
      " 1   Release Date       1512 non-null   object \n",
      " 2   Team               1511 non-null   object \n",
      " 3   Rating             1499 non-null   float64\n",
      " 4   Times Listed       1512 non-null   object \n",
      " 5   Number of Reviews  1512 non-null   object \n",
      " 6   Genres             1512 non-null   object \n",
      " 7   Summary            1511 non-null   object \n",
      " 8   Reviews            1512 non-null   object \n",
      " 9   Plays              1512 non-null   object \n",
      " 10  Playing            1512 non-null   object \n",
      " 11  Backlogs           1512 non-null   object \n",
      " 12  Wishlist           1512 non-null   object \n",
      "dtypes: float64(1), object(12)\n",
      "memory usage: 165.4+ KB\n"
     ]
    }
   ],
   "source": [
    "datos.info()"
   ]
  },
  {
   "attachments": {},
   "cell_type": "markdown",
   "metadata": {},
   "source": [
    "#### **IDENTIFICANDO DATOS NULOS**"
   ]
  },
  {
   "cell_type": "code",
   "execution_count": null,
   "metadata": {},
   "outputs": [],
   "source": [
    "datos.isnull()"
   ]
  },
  {
   "cell_type": "code",
   "execution_count": 6,
   "metadata": {},
   "outputs": [
    {
     "data": {
      "text/plain": [
       "Title                False\n",
       "Release Date         False\n",
       "Team                  True\n",
       "Rating                True\n",
       "Times Listed         False\n",
       "Number of Reviews    False\n",
       "Genres               False\n",
       "Summary               True\n",
       "Reviews              False\n",
       "Plays                False\n",
       "Playing              False\n",
       "Backlogs             False\n",
       "Wishlist             False\n",
       "dtype: bool"
      ]
     },
     "execution_count": 6,
     "metadata": {},
     "output_type": "execute_result"
    }
   ],
   "source": [
    "datos.isnull().any()"
   ]
  },
  {
   "attachments": {},
   "cell_type": "markdown",
   "metadata": {},
   "source": [
    "#### **ELIMINANDO DATOS NULOS**"
   ]
  },
  {
   "cell_type": "code",
   "execution_count": 7,
   "metadata": {},
   "outputs": [
    {
     "data": {
      "text/plain": [
       "<bound method DataFrame.dropna of                                         Title  Release Date  \\\n",
       "id                                                            \n",
       "0                                  Elden Ring  Feb 25, 2022   \n",
       "1                                       Hades  Dec 10, 2019   \n",
       "2     The Legend of Zelda: Breath of the Wild  Mar 03, 2017   \n",
       "3                                   Undertale  Sep 15, 2015   \n",
       "4                               Hollow Knight  Feb 24, 2017   \n",
       "...                                       ...           ...   \n",
       "1507             Back to the Future: The Game  Dec 22, 2010   \n",
       "1508                        Team Sonic Racing  May 21, 2019   \n",
       "1509                           Dragon's Dogma  May 22, 2012   \n",
       "1510                          Baldur's Gate 3  Oct 06, 2020   \n",
       "1511                 The LEGO Movie Videogame  Feb 04, 2014   \n",
       "\n",
       "                                                   Team  Rating Times Listed  \\\n",
       "id                                                                             \n",
       "0        ['Bandai Namco Entertainment', 'FromSoftware']     4.5         3.9K   \n",
       "1                                  ['Supergiant Games']     4.3         2.9K   \n",
       "2     ['Nintendo', 'Nintendo EPD Production Group No...     4.4         4.3K   \n",
       "3                                    ['tobyfox', '8-4']     4.2         3.5K   \n",
       "4                                       ['Team Cherry']     4.4           3K   \n",
       "...                                                 ...     ...          ...   \n",
       "1507                                 ['Telltale Games']     3.2           94   \n",
       "1508                           ['Sumo Digital', 'Sega']     2.9          264   \n",
       "1509                                         ['Capcom']     3.7          210   \n",
       "1510                                 ['Larian Studios']     4.1          165   \n",
       "1511                          ['WB Games', 'TT Fusion']     2.8          184   \n",
       "\n",
       "     Number of Reviews                                             Genres  \\\n",
       "id                                                                          \n",
       "0                 3.9K                               ['Adventure', 'RPG']   \n",
       "1                 2.9K           ['Adventure', 'Brawler', 'Indie', 'RPG']   \n",
       "2                 4.3K                               ['Adventure', 'RPG']   \n",
       "3                 3.5K  ['Adventure', 'Indie', 'RPG', 'Turn Based Stra...   \n",
       "4                   3K                 ['Adventure', 'Indie', 'Platform']   \n",
       "...                ...                                                ...   \n",
       "1507                94                   ['Adventure', 'Point-and-Click']   \n",
       "1508               264                               ['Arcade', 'Racing']   \n",
       "1509               210                                 ['Brawler', 'RPG']   \n",
       "1510               165  ['Adventure', 'RPG', 'Strategy', 'Tactical', '...   \n",
       "1511               184                            ['Adventure', 'Puzzle']   \n",
       "\n",
       "                                                Summary  \\\n",
       "id                                                        \n",
       "0     Elden Ring is a fantasy, action and open world...   \n",
       "1     A rogue-lite hack and slash dungeon crawler in...   \n",
       "2     The Legend of Zelda: Breath of the Wild is the...   \n",
       "3     A small child falls into the Underground, wher...   \n",
       "4     A 2D metroidvania with an emphasis on close co...   \n",
       "...                                                 ...   \n",
       "1507  Back to the Future: The Game is one of Telltal...   \n",
       "1508  Team Sonic Racing combines the best elements o...   \n",
       "1509  Set in a huge open world, Dragon’s Dogma: Dark...   \n",
       "1510  An ancient evil has returned to Baldur's Gate,...   \n",
       "1511  Join Emmet and an unlikely group of resistance...   \n",
       "\n",
       "                                                Reviews Plays Playing  \\\n",
       "id                                                                      \n",
       "0     [\"The first playthrough of elden ring is one o...   17K    3.8K   \n",
       "1     ['convinced this is a roguelike for people who...   21K    3.2K   \n",
       "2     ['This game is the game (that is not CS:GO) th...   30K    2.5K   \n",
       "3     ['soundtrack is tied for #1 with nier automata...   28K     679   \n",
       "4     [\"this games worldbuilding is incredible, with...   21K    2.4K   \n",
       "...                                                 ...   ...     ...   \n",
       "1507  ['Very enjoyable game. The story adds onto the...   763       5   \n",
       "1508  ['jogo morto mas bom', 'not my cup of tea', \"C...  1.5K      49   \n",
       "1509  ['Underrated.', 'A grandes rasgos, es como un ...  1.1K      45   \n",
       "1510  ['Bu türe bu oyunla girmeye çalışmak hataydı s...   269      79   \n",
       "1511  ['Legal', 'Pretty Average Lego Game But It Was...  1.7K      11   \n",
       "\n",
       "     Backlogs Wishlist  \n",
       "id                      \n",
       "0        4.6K     4.8K  \n",
       "1        6.3K     3.6K  \n",
       "2          5K     2.6K  \n",
       "3        4.9K     1.8K  \n",
       "4        8.3K     2.3K  \n",
       "...       ...      ...  \n",
       "1507      223       67  \n",
       "1508      413      107  \n",
       "1509      487      206  \n",
       "1510      388      602  \n",
       "1511      239       73  \n",
       "\n",
       "[1512 rows x 13 columns]>"
      ]
     },
     "execution_count": 7,
     "metadata": {},
     "output_type": "execute_result"
    }
   ],
   "source": [
    "data_sin_nulos = datos.dropna\n",
    "data_sin_nulos"
   ]
  },
  {
   "attachments": {},
   "cell_type": "markdown",
   "metadata": {},
   "source": []
  },
  {
   "cell_type": "code",
   "execution_count": 10,
   "metadata": {},
   "outputs": [
    {
     "data": {
      "text/html": [
       "<div>\n",
       "<style scoped>\n",
       "    .dataframe tbody tr th:only-of-type {\n",
       "        vertical-align: middle;\n",
       "    }\n",
       "\n",
       "    .dataframe tbody tr th {\n",
       "        vertical-align: top;\n",
       "    }\n",
       "\n",
       "    .dataframe thead th {\n",
       "        text-align: right;\n",
       "    }\n",
       "</style>\n",
       "<table border=\"1\" class=\"dataframe\">\n",
       "  <thead>\n",
       "    <tr style=\"text-align: right;\">\n",
       "      <th></th>\n",
       "      <th>Title</th>\n",
       "      <th>Rating</th>\n",
       "    </tr>\n",
       "    <tr>\n",
       "      <th>id</th>\n",
       "      <th></th>\n",
       "      <th></th>\n",
       "    </tr>\n",
       "  </thead>\n",
       "  <tbody>\n",
       "    <tr>\n",
       "      <th>0</th>\n",
       "      <td>Elden Ring</td>\n",
       "      <td>4.5</td>\n",
       "    </tr>\n",
       "    <tr>\n",
       "      <th>1</th>\n",
       "      <td>Hades</td>\n",
       "      <td>4.3</td>\n",
       "    </tr>\n",
       "    <tr>\n",
       "      <th>2</th>\n",
       "      <td>The Legend of Zelda: Breath of the Wild</td>\n",
       "      <td>4.4</td>\n",
       "    </tr>\n",
       "    <tr>\n",
       "      <th>3</th>\n",
       "      <td>Undertale</td>\n",
       "      <td>4.2</td>\n",
       "    </tr>\n",
       "    <tr>\n",
       "      <th>6</th>\n",
       "      <td>Omori</td>\n",
       "      <td>4.2</td>\n",
       "    </tr>\n",
       "    <tr>\n",
       "      <th>9</th>\n",
       "      <td>NieR: Automata</td>\n",
       "      <td>4.3</td>\n",
       "    </tr>\n",
       "    <tr>\n",
       "      <th>10</th>\n",
       "      <td>Persona 5 Royal</td>\n",
       "      <td>4.4</td>\n",
       "    </tr>\n",
       "    <tr>\n",
       "      <th>12</th>\n",
       "      <td>God of War</td>\n",
       "      <td>4.2</td>\n",
       "    </tr>\n",
       "    <tr>\n",
       "      <th>14</th>\n",
       "      <td>Bloodborne</td>\n",
       "      <td>4.5</td>\n",
       "    </tr>\n",
       "    <tr>\n",
       "      <th>16</th>\n",
       "      <td>Yakuza 0</td>\n",
       "      <td>4.4</td>\n",
       "    </tr>\n",
       "  </tbody>\n",
       "</table>\n",
       "</div>"
      ],
      "text/plain": [
       "                                      Title  Rating\n",
       "id                                                 \n",
       "0                                Elden Ring     4.5\n",
       "1                                     Hades     4.3\n",
       "2   The Legend of Zelda: Breath of the Wild     4.4\n",
       "3                                 Undertale     4.2\n",
       "6                                     Omori     4.2\n",
       "9                            NieR: Automata     4.3\n",
       "10                          Persona 5 Royal     4.4\n",
       "12                               God of War     4.2\n",
       "14                               Bloodborne     4.5\n",
       "16                                 Yakuza 0     4.4"
      ]
     },
     "execution_count": 10,
     "metadata": {},
     "output_type": "execute_result"
    }
   ],
   "source": [
    "def rpg(genres):\n",
    "    return \"RPG\" in genres\n",
    "\n",
    "#Aplica el filtro\n",
    "datosRPG = datos[datos[\"Genres\"].apply(rpg)]\n",
    "\n",
    "#Muestra el dataset con solo algunas columnas\n",
    "nombresRPG = datosRPG[[\"Title\",\"Rating\"]]\n",
    "nombresRPG.head(10)"
   ]
  },
  {
   "attachments": {},
   "cell_type": "markdown",
   "metadata": {},
   "source": [
    "#### **INFORMACIÓN FILTRADA**"
   ]
  },
  {
   "cell_type": "code",
   "execution_count": 12,
   "metadata": {},
   "outputs": [
    {
     "name": "stdout",
     "output_type": "stream",
     "text": [
      "<class 'pandas.core.frame.DataFrame'>\n",
      "Index: 523 entries, 0 to 1510\n",
      "Data columns (total 2 columns):\n",
      " #   Column  Non-Null Count  Dtype  \n",
      "---  ------  --------------  -----  \n",
      " 0   Title   523 non-null    object \n",
      " 1   Rating  516 non-null    float64\n",
      "dtypes: float64(1), object(1)\n",
      "memory usage: 12.3+ KB\n"
     ]
    }
   ],
   "source": [
    "nombresRPG.info()"
   ]
  },
  {
   "attachments": {},
   "cell_type": "markdown",
   "metadata": {},
   "source": [
    "##### **Seguir filtrando**"
   ]
  },
  {
   "cell_type": "code",
   "execution_count": 13,
   "metadata": {},
   "outputs": [
    {
     "data": {
      "text/html": [
       "<div>\n",
       "<style scoped>\n",
       "    .dataframe tbody tr th:only-of-type {\n",
       "        vertical-align: middle;\n",
       "    }\n",
       "\n",
       "    .dataframe tbody tr th {\n",
       "        vertical-align: top;\n",
       "    }\n",
       "\n",
       "    .dataframe thead th {\n",
       "        text-align: right;\n",
       "    }\n",
       "</style>\n",
       "<table border=\"1\" class=\"dataframe\">\n",
       "  <thead>\n",
       "    <tr style=\"text-align: right;\">\n",
       "      <th></th>\n",
       "      <th>Title</th>\n",
       "      <th>Rating</th>\n",
       "    </tr>\n",
       "    <tr>\n",
       "      <th>id</th>\n",
       "      <th></th>\n",
       "      <th></th>\n",
       "    </tr>\n",
       "  </thead>\n",
       "  <tbody>\n",
       "    <tr>\n",
       "      <th>0</th>\n",
       "      <td>False</td>\n",
       "      <td>False</td>\n",
       "    </tr>\n",
       "    <tr>\n",
       "      <th>1</th>\n",
       "      <td>False</td>\n",
       "      <td>False</td>\n",
       "    </tr>\n",
       "    <tr>\n",
       "      <th>2</th>\n",
       "      <td>False</td>\n",
       "      <td>False</td>\n",
       "    </tr>\n",
       "    <tr>\n",
       "      <th>3</th>\n",
       "      <td>False</td>\n",
       "      <td>False</td>\n",
       "    </tr>\n",
       "    <tr>\n",
       "      <th>6</th>\n",
       "      <td>False</td>\n",
       "      <td>False</td>\n",
       "    </tr>\n",
       "    <tr>\n",
       "      <th>...</th>\n",
       "      <td>...</td>\n",
       "      <td>...</td>\n",
       "    </tr>\n",
       "    <tr>\n",
       "      <th>1487</th>\n",
       "      <td>False</td>\n",
       "      <td>False</td>\n",
       "    </tr>\n",
       "    <tr>\n",
       "      <th>1489</th>\n",
       "      <td>False</td>\n",
       "      <td>False</td>\n",
       "    </tr>\n",
       "    <tr>\n",
       "      <th>1500</th>\n",
       "      <td>False</td>\n",
       "      <td>False</td>\n",
       "    </tr>\n",
       "    <tr>\n",
       "      <th>1509</th>\n",
       "      <td>False</td>\n",
       "      <td>False</td>\n",
       "    </tr>\n",
       "    <tr>\n",
       "      <th>1510</th>\n",
       "      <td>False</td>\n",
       "      <td>False</td>\n",
       "    </tr>\n",
       "  </tbody>\n",
       "</table>\n",
       "<p>523 rows × 2 columns</p>\n",
       "</div>"
      ],
      "text/plain": [
       "      Title  Rating\n",
       "id                 \n",
       "0     False   False\n",
       "1     False   False\n",
       "2     False   False\n",
       "3     False   False\n",
       "6     False   False\n",
       "...     ...     ...\n",
       "1487  False   False\n",
       "1489  False   False\n",
       "1500  False   False\n",
       "1509  False   False\n",
       "1510  False   False\n",
       "\n",
       "[523 rows x 2 columns]"
      ]
     },
     "execution_count": 13,
     "metadata": {},
     "output_type": "execute_result"
    }
   ],
   "source": [
    "nombresRPG.isnull()"
   ]
  },
  {
   "attachments": {},
   "cell_type": "markdown",
   "metadata": {},
   "source": [
    "#### **DATAFRAME INENTENDIBLE**"
   ]
  },
  {
   "cell_type": "code",
   "execution_count": 14,
   "metadata": {},
   "outputs": [
    {
     "data": {
      "text/plain": [
       "<Axes: xlabel='id'>"
      ]
     },
     "execution_count": 14,
     "metadata": {},
     "output_type": "execute_result"
    },
    {
     "data": {
      "image/png": "[encoded data removed]",
      "text/plain": [
       "<Figure size 640x480 with 1 Axes>"
      ]
     },
     "metadata": {},
     "output_type": "display_data"
    }
   ],
   "source": [
    "datasetRPG = nombresRPG.head(10)\n",
    "datasetRPG.drop([\"Title\",],axis=1)[\"Rating\"].plot(kind=\"bar\")"
   ]
  },
  {
   "attachments": {},
   "cell_type": "markdown",
   "metadata": {},
   "source": []
  },
  {
   "cell_type": "code",
   "execution_count": 19,
   "metadata": {},
   "outputs": [
    {
     "ename": "KeyError",
     "evalue": "\"None of ['Title'] are in the columns\"",
     "output_type": "error",
     "traceback": [
      "\u001b[1;31m---------------------------------------------------------------------------\u001b[0m",
      "\u001b[1;31mKeyError\u001b[0m                                  Traceback (most recent call last)",
      "\u001b[1;32m~\\AppData\\Local\\Temp\\ipykernel_22340\\1489514147.py\u001b[0m in \u001b[0;36m?\u001b[1;34m()\u001b[0m\n\u001b[1;32m----> 1\u001b[1;33m \u001b[0mdatasetRPG\u001b[0m\u001b[1;33m.\u001b[0m\u001b[0mset_index\u001b[0m\u001b[1;33m(\u001b[0m\u001b[1;34m\"Title\"\u001b[0m\u001b[1;33m)\u001b[0m\u001b[1;33m\u001b[0m\u001b[1;33m\u001b[0m\u001b[0m\n\u001b[0m\u001b[0;32m      2\u001b[0m \u001b[0mdatasetRPG\u001b[0m\u001b[1;33m.\u001b[0m\u001b[0mdrop\u001b[0m\u001b[1;33m(\u001b[0m\u001b[1;33m[\u001b[0m\u001b[1;34m\"Title\"\u001b[0m\u001b[1;33m,\u001b[0m\u001b[1;33m]\u001b[0m\u001b[1;33m,\u001b[0m\u001b[0maxis\u001b[0m\u001b[1;33m=\u001b[0m\u001b[1;36m1\u001b[0m\u001b[1;33m)\u001b[0m\u001b[1;33m[\u001b[0m\u001b[1;34m\"Rating\"\u001b[0m\u001b[1;33m]\u001b[0m\u001b[1;33m.\u001b[0m\u001b[0mplot\u001b[0m\u001b[1;33m(\u001b[0m\u001b[0mkind\u001b[0m\u001b[1;33m=\u001b[0m\u001b[1;34m\"bar\"\u001b[0m\u001b[1;33m)\u001b[0m\u001b[1;33m\u001b[0m\u001b[1;33m\u001b[0m\u001b[0m\n",
      "\u001b[1;32mc:\\Users\\Mati\\AppData\\Local\\Programs\\Python\\Python311\\Lib\\site-packages\\pandas\\core\\frame.py\u001b[0m in \u001b[0;36m?\u001b[1;34m(self, keys, drop, append, inplace, verify_integrity)\u001b[0m\n\u001b[0;32m   5855\u001b[0m                     \u001b[1;32mif\u001b[0m \u001b[1;32mnot\u001b[0m \u001b[0mfound\u001b[0m\u001b[1;33m:\u001b[0m\u001b[1;33m\u001b[0m\u001b[1;33m\u001b[0m\u001b[0m\n\u001b[0;32m   5856\u001b[0m                         \u001b[0mmissing\u001b[0m\u001b[1;33m.\u001b[0m\u001b[0mappend\u001b[0m\u001b[1;33m(\u001b[0m\u001b[0mcol\u001b[0m\u001b[1;33m)\u001b[0m\u001b[1;33m\u001b[0m\u001b[1;33m\u001b[0m\u001b[0m\n\u001b[0;32m   5857\u001b[0m \u001b[1;33m\u001b[0m\u001b[0m\n\u001b[0;32m   5858\u001b[0m         \u001b[1;32mif\u001b[0m \u001b[0mmissing\u001b[0m\u001b[1;33m:\u001b[0m\u001b[1;33m\u001b[0m\u001b[1;33m\u001b[0m\u001b[0m\n\u001b[1;32m-> 5859\u001b[1;33m             \u001b[1;32mraise\u001b[0m \u001b[0mKeyError\u001b[0m\u001b[1;33m(\u001b[0m\u001b[1;34mf\"None of {missing} are in the columns\"\u001b[0m\u001b[1;33m)\u001b[0m\u001b[1;33m\u001b[0m\u001b[1;33m\u001b[0m\u001b[0m\n\u001b[0m\u001b[0;32m   5860\u001b[0m \u001b[1;33m\u001b[0m\u001b[0m\n\u001b[0;32m   5861\u001b[0m         \u001b[1;32mif\u001b[0m \u001b[0minplace\u001b[0m\u001b[1;33m:\u001b[0m\u001b[1;33m\u001b[0m\u001b[1;33m\u001b[0m\u001b[0m\n\u001b[0;32m   5862\u001b[0m             \u001b[0mframe\u001b[0m \u001b[1;33m=\u001b[0m \u001b[0mself\u001b[0m\u001b[1;33m\u001b[0m\u001b[1;33m\u001b[0m\u001b[0m\n",
      "\u001b[1;31mKeyError\u001b[0m: \"None of ['Title'] are in the columns\""
     ]
    }
   ],
   "source": [
    "datasetRPG.set_index(\"Title\", inplace=True)\n",
    "ax = datasetRPG[\"Rating\"].plot\n",
    "\n",
    "for i, rating in enumerate()"
   ]
  },
  {
   "attachments": {},
   "cell_type": "markdown",
   "metadata": {},
   "source": [
    "#### **PROMEDIO RATING VIDEOJUEGOS RPG**"
   ]
  },
  {
   "cell_type": "code",
   "execution_count": 20,
   "metadata": {},
   "outputs": [
    {
     "data": {
      "text/plain": [
       "3.832558139534884"
      ]
     },
     "execution_count": 20,
     "metadata": {},
     "output_type": "execute_result"
    }
   ],
   "source": [
    "ratings_RPG = datos[datos[\"Genres\"].apply(lambda x: \"RPG\" in x)][\"Rating\"]\n",
    "promedio_RPG = ratings_RPG.mean()\n",
    "\n",
    "promedio_RPG"
   ]
  },
  {
   "attachments": {},
   "cell_type": "markdown",
   "metadata": {},
   "source": [
    "#### **Aplicar  para calcular promedio de Indies**"
   ]
  },
  {
   "cell_type": "code",
   "execution_count": 21,
   "metadata": {},
   "outputs": [
    {
     "data": {
      "text/plain": [
       "3.7031802120141344"
      ]
     },
     "execution_count": 21,
     "metadata": {},
     "output_type": "execute_result"
    }
   ],
   "source": [
    "ratings_indie = datos[datos[\"Genres\"].apply(lambda x: \"Indie\" in x)][\"Rating\"]\n",
    "promedio_indie = ratings_indie.mean()\n",
    "\n",
    "promedio_indie"
   ]
  },
  {
   "attachments": {},
   "cell_type": "markdown",
   "metadata": {},
   "source": [
    "#### **JUNTAR PROMEDIOS EN UN DATASET**"
   ]
  },
  {
   "cell_type": "code",
   "execution_count": 22,
   "metadata": {},
   "outputs": [],
   "source": [
    "dataset_promedios = pd.DataFrame({\"Genres\": [\"RPG\", \"Indie\"], \"Ratings\":[promedio_RPG, promedio_indie]})"
   ]
  },
  {
   "cell_type": "code",
   "execution_count": null,
   "metadata": {},
   "outputs": [],
   "source": [
    "plt.pie(dataset_promedios)"
   ]
  }
 ],
 "metadata": {
  "kernelspec": {
   "display_name": "Python 3",
   "language": "python",
   "name": "python3"
  },
  "language_info": {
   "codemirror_mode": {
    "name": "ipython",
    "version": 3
   },
   "file_extension": ".py",
   "mimetype": "text/x-python",
   "name": "python",
   "nbconvert_exporter": "python",
   "pygments_lexer": "ipython3",
   "version": "3.11.2"
  },
  "orig_nbformat": 4
 },
 "nbformat": 4,
 "nbformat_minor": 2
}
